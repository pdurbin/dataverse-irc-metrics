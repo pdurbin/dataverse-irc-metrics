{
 "cells": [
  {
   "cell_type": "code",
   "execution_count": 18,
   "metadata": {},
   "outputs": [
    {
     "ename": "ERROR",
     "evalue": "Error in parse(text = x, srcfile = src): attempt to use zero-length variable name\n",
     "output_type": "error",
     "traceback": [
      "Error in parse(text = x, srcfile = src): attempt to use zero-length variable name\nTraceback:\n"
     ]
    }
   ],
   "source": [
    "```{r warning = FALSE, message=FALSE}\n",
    "library(readr)\n",
    "library(dplyr)\n",
    "library(ggplot2)\n",
    "library(lubridate)"
   ]
  },
  {
   "cell_type": "code",
   "execution_count": 19,
   "metadata": {},
   "outputs": [
    {
     "ename": "ERROR",
     "evalue": "Error in parse(text = x, srcfile = src): attempt to use zero-length variable name\n",
     "output_type": "error",
     "traceback": [
      "Error in parse(text = x, srcfile = src): attempt to use zero-length variable name\nTraceback:\n"
     ]
    }
   ],
   "source": [
    "```{r warning = FALSE, message=FALSE}\n",
    "dir.create('data')"
   ]
  },
  {
   "cell_type": "code",
   "execution_count": 20,
   "metadata": {},
   "outputs": [],
   "source": [
    "download.file(url='http://dvn-vm1.hmdc.harvard.edu/data/mysql/irclog/irclog.tsv', destfile='data/irclog.tsv', method='curl')"
   ]
  },
  {
   "cell_type": "code",
   "execution_count": 21,
   "metadata": {},
   "outputs": [
    {
     "ename": "ERROR",
     "evalue": "Error in parse(text = x, srcfile = src): attempt to use zero-length variable name\n",
     "output_type": "error",
     "traceback": [
      "Error in parse(text = x, srcfile = src): attempt to use zero-length variable name\nTraceback:\n"
     ]
    }
   ],
   "source": [
    "```{r warning = FALSE, message=FALSE}\n",
    "df <- read_tsv('data/irclog.tsv')"
   ]
  },
  {
   "cell_type": "code",
   "execution_count": 22,
   "metadata": {},
   "outputs": [],
   "source": [
    "options(dplyr.print_max = 1e9)"
   ]
  },
  {
   "cell_type": "code",
   "execution_count": 23,
   "metadata": {},
   "outputs": [],
   "source": [
    "out <- df %>%\n",
    "    filter(!is.na(nick)) %>%\n",
    "    group_by(month=floor_date(as.Date(day), \"month\")) %>%\n",
    "    count()"
   ]
  },
  {
   "cell_type": "code",
   "execution_count": 24,
   "metadata": {},
   "outputs": [
    {
     "data": {},
     "metadata": {},
     "output_type": "display_data"
    },
    {
     "data": {
      "image/png": "[encoded data removed]",
      "text/plain": [
       "plot without title"
      ]
     },
     "metadata": {},
     "output_type": "display_data"
    }
   ],
   "source": [
    "out %>% ggplot(aes(x = month, y = n)) + geom_col() +\n",
    "ylab(\"messages\") +\n",
    "xlab(\"month\")"
   ]
  },
  {
   "cell_type": "code",
   "execution_count": 25,
   "metadata": {},
   "outputs": [
    {
     "name": "stdout",
     "output_type": "stream",
     "text": [
      "# A tibble: 78 x 2\n",
      "# Groups:   month [78]\n",
      "   month          n\n",
      "   <date>     <int>\n",
      " 1 2012-12-01   188\n",
      " 2 2013-01-01   129\n",
      " 3 2013-02-01   550\n",
      " 4 2013-03-01    85\n",
      " 5 2013-04-01    55\n",
      " 6 2013-05-01   244\n",
      " 7 2013-06-01     5\n",
      " 8 2013-07-01   494\n",
      " 9 2013-08-01   411\n",
      "10 2013-09-01    87\n",
      "11 2013-10-01   217\n",
      "12 2013-11-01    97\n",
      "13 2013-12-01    30\n",
      "14 2014-01-01   946\n",
      "15 2014-02-01   196\n",
      "16 2014-03-01   607\n",
      "17 2014-04-01   460\n",
      "18 2014-05-01   561\n",
      "19 2014-06-01   237\n",
      "20 2014-07-01   867\n",
      "21 2014-08-01   122\n",
      "22 2014-09-01   443\n",
      "23 2014-10-01   327\n",
      "24 2014-11-01   103\n",
      "25 2014-12-01   221\n",
      "26 2015-01-01   246\n",
      "27 2015-02-01   370\n",
      "28 2015-03-01   516\n",
      "29 2015-04-01   967\n",
      "30 2015-05-01   522\n",
      "31 2015-06-01   391\n",
      "32 2015-07-01   926\n",
      "33 2015-08-01   330\n",
      "34 2015-09-01   498\n",
      "35 2015-10-01   654\n",
      "36 2015-11-01   464\n",
      "37 2015-12-01   989\n",
      "38 2016-01-01   585\n",
      "39 2016-02-01   668\n",
      "40 2016-03-01   592\n",
      "41 2016-04-01   232\n",
      "42 2016-05-01   464\n",
      "43 2016-06-01   949\n",
      "44 2016-07-01   588\n",
      "45 2016-08-01   719\n",
      "46 2016-09-01  1054\n",
      "47 2016-10-01   799\n",
      "48 2016-11-01   483\n",
      "49 2016-12-01   174\n",
      "50 2017-01-01   699\n",
      "51 2017-02-01   580\n",
      "52 2017-03-01   407\n",
      "53 2017-04-01   439\n",
      "54 2017-05-01   305\n",
      "55 2017-06-01   384\n",
      "56 2017-07-01   513\n",
      "57 2017-08-01   513\n",
      "58 2017-09-01  1230\n",
      "59 2017-10-01   655\n",
      "60 2017-11-01   683\n",
      "61 2017-12-01   794\n",
      "62 2018-01-01   632\n",
      "63 2018-02-01   609\n",
      "64 2018-03-01   899\n",
      "65 2018-04-01  1068\n",
      "66 2018-05-01  1058\n",
      "67 2018-06-01   801\n",
      "68 2018-07-01   639\n",
      "69 2018-08-01   473\n",
      "70 2018-09-01  1376\n",
      "71 2018-10-01  2603\n",
      "72 2018-11-01  2656\n",
      "73 2018-12-01  1797\n",
      "74 2019-01-01  2061\n",
      "75 2019-02-01   866\n",
      "76 2019-03-01  1654\n",
      "77 2019-04-01  1553\n",
      "78 2019-05-01  1152\n"
     ]
    }
   ],
   "source": [
    "out %>% print(n=80)"
   ]
  },
  {
   "cell_type": "code",
   "execution_count": 26,
   "metadata": {},
   "outputs": [],
   "source": [
    "ggsave(\"irclog.png\", width = 7, height = 3)"
   ]
  }
 ],
 "metadata": {
  "kernelspec": {
   "display_name": "R",
   "language": "R",
   "name": "ir"
  },
  "language_info": {
   "codemirror_mode": "r",
   "file_extension": ".r",
   "mimetype": "text/x-r-source",
   "name": "R",
   "pygments_lexer": "r",
   "version": "3.4.4"
  }
 },
 "nbformat": 4,
 "nbformat_minor": 2
}
