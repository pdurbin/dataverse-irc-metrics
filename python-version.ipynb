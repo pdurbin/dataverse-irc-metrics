{
 "cells": [
  {
   "cell_type": "code",
   "execution_count": 1,
   "metadata": {},
   "outputs": [],
   "source": [
    "%matplotlib inline"
   ]
  },
  {
   "cell_type": "code",
   "execution_count": 2,
   "metadata": {},
   "outputs": [],
   "source": [
    "import numpy as np\n",
    "import pandas as pd\n",
    "import matplotlib.pyplot as plt"
   ]
  },
  {
   "cell_type": "code",
   "execution_count": 3,
   "metadata": {},
   "outputs": [],
   "source": [
    "pd.set_option('display.max_columns', 100)"
   ]
  },
  {
   "cell_type": "code",
   "execution_count": 4,
   "metadata": {},
   "outputs": [
    {
     "name": "stdout",
     "output_type": "stream",
     "text": [
      "Pandas version 0.24.2\n"
     ]
    }
   ],
   "source": [
    "print('Pandas version ' + pd.__version__)"
   ]
  },
  {
   "cell_type": "code",
   "execution_count": 5,
   "metadata": {},
   "outputs": [
    {
     "name": "stdout",
     "output_type": "stream",
     "text": [
      "Numpy version 1.16.4\n"
     ]
    }
   ],
   "source": [
    "print('Numpy version ' + np.__version__)"
   ]
  },
  {
   "cell_type": "code",
   "execution_count": 6,
   "metadata": {},
   "outputs": [],
   "source": [
    "data = pd.read_csv(\"data/irclog.tsv\", sep=\"\\t\", encoding=\"unicode_escape\")"
   ]
  },
  {
   "cell_type": "code",
   "execution_count": 7,
   "metadata": {},
   "outputs": [
    {
     "data": {
      "text/html": [
       "<div>\n",
       "<style scoped>\n",
       "    .dataframe tbody tr th:only-of-type {\n",
       "        vertical-align: middle;\n",
       "    }\n",
       "\n",
       "    .dataframe tbody tr th {\n",
       "        vertical-align: top;\n",
       "    }\n",
       "\n",
       "    .dataframe thead th {\n",
       "        text-align: right;\n",
       "    }\n",
       "</style>\n",
       "<table border=\"1\" class=\"dataframe\">\n",
       "  <thead>\n",
       "    <tr style=\"text-align: right;\">\n",
       "      <th></th>\n",
       "      <th>id</th>\n",
       "      <th>channel</th>\n",
       "      <th>day</th>\n",
       "      <th>nick</th>\n",
       "      <th>timestamp</th>\n",
       "      <th>line</th>\n",
       "      <th>spam</th>\n",
       "      <th>in_summary</th>\n",
       "    </tr>\n",
       "  </thead>\n",
       "  <tbody>\n",
       "    <tr>\n",
       "      <th>0</th>\n",
       "      <td>1</td>\n",
       "      <td>#dvn</td>\n",
       "      <td>2012-12-08</td>\n",
       "      <td>NaN</td>\n",
       "      <td>1355005146</td>\n",
       "      <td>iqlogbot joined #dvn</td>\n",
       "      <td>0</td>\n",
       "      <td>0</td>\n",
       "    </tr>\n",
       "    <tr>\n",
       "      <th>1</th>\n",
       "      <td>2</td>\n",
       "      <td>#dvn</td>\n",
       "      <td>2012-12-08</td>\n",
       "      <td>NaN</td>\n",
       "      <td>1355005248</td>\n",
       "      <td>Topic for #dvn is now http://thedata.org - The...</td>\n",
       "      <td>0</td>\n",
       "      <td>0</td>\n",
       "    </tr>\n",
       "    <tr>\n",
       "      <th>2</th>\n",
       "      <td>3</td>\n",
       "      <td>#dvn</td>\n",
       "      <td>2012-12-08</td>\n",
       "      <td>pdurbin</td>\n",
       "      <td>1355005351</td>\n",
       "      <td>hello! welcome to #dvn, an IRC channel on Free...</td>\n",
       "      <td>0</td>\n",
       "      <td>0</td>\n",
       "    </tr>\n",
       "    <tr>\n",
       "      <th>3</th>\n",
       "      <td>4</td>\n",
       "      <td>#dvn</td>\n",
       "      <td>2012-12-08</td>\n",
       "      <td>pdurbin</td>\n",
       "      <td>1355005459</td>\n",
       "      <td>our website is http://thedata.org and we're st...</td>\n",
       "      <td>0</td>\n",
       "      <td>0</td>\n",
       "    </tr>\n",
       "    <tr>\n",
       "      <th>4</th>\n",
       "      <td>5</td>\n",
       "      <td>#dvn</td>\n",
       "      <td>2012-12-08</td>\n",
       "      <td>pdurbin</td>\n",
       "      <td>1355005517</td>\n",
       "      <td>we call our project DVN for short :)</td>\n",
       "      <td>0</td>\n",
       "      <td>0</td>\n",
       "    </tr>\n",
       "  </tbody>\n",
       "</table>\n",
       "</div>"
      ],
      "text/plain": [
       "   id channel         day     nick   timestamp  \\\n",
       "0   1    #dvn  2012-12-08      NaN  1355005146   \n",
       "1   2    #dvn  2012-12-08      NaN  1355005248   \n",
       "2   3    #dvn  2012-12-08  pdurbin  1355005351   \n",
       "3   4    #dvn  2012-12-08  pdurbin  1355005459   \n",
       "4   5    #dvn  2012-12-08  pdurbin  1355005517   \n",
       "\n",
       "                                                line  spam  in_summary  \n",
       "0                               iqlogbot joined #dvn     0           0  \n",
       "1  Topic for #dvn is now http://thedata.org - The...     0           0  \n",
       "2  hello! welcome to #dvn, an IRC channel on Free...     0           0  \n",
       "3  our website is http://thedata.org and we're st...     0           0  \n",
       "4               we call our project DVN for short :)     0           0  "
      ]
     },
     "execution_count": 7,
     "metadata": {},
     "output_type": "execute_result"
    }
   ],
   "source": [
    "data.head()"
   ]
  },
  {
   "cell_type": "code",
   "execution_count": 8,
   "metadata": {},
   "outputs": [
    {
     "name": "stdout",
     "output_type": "stream",
     "text": [
      "<class 'pandas.core.frame.DataFrame'>\n",
      "RangeIndex: 93663 entries, 0 to 93662\n",
      "Data columns (total 8 columns):\n",
      "id            93663 non-null int64\n",
      "channel       93663 non-null object\n",
      "day           93663 non-null object\n",
      "nick          60849 non-null object\n",
      "timestamp     93663 non-null int64\n",
      "line          93661 non-null object\n",
      "spam          93663 non-null int64\n",
      "in_summary    93663 non-null int64\n",
      "dtypes: int64(4), object(4)\n",
      "memory usage: 5.7+ MB\n"
     ]
    }
   ],
   "source": [
    "data.info()"
   ]
  },
  {
   "cell_type": "code",
   "execution_count": 9,
   "metadata": {},
   "outputs": [
    {
     "data": {
      "text/plain": [
       "['id', 'channel', 'day', 'nick', 'timestamp', 'line', 'spam', 'in_summary']"
      ]
     },
     "execution_count": 9,
     "metadata": {},
     "output_type": "execute_result"
    }
   ],
   "source": [
    "list(data.columns)"
   ]
  },
  {
   "cell_type": "code",
   "execution_count": 10,
   "metadata": {},
   "outputs": [
    {
     "data": {
      "text/plain": [
       "#dataverse    83403\n",
       "#dvn          10260\n",
       "Name: channel, dtype: int64"
      ]
     },
     "execution_count": 10,
     "metadata": {},
     "output_type": "execute_result"
    }
   ],
   "source": [
    "data['channel'].value_counts()"
   ]
  },
  {
   "cell_type": "code",
   "execution_count": 11,
   "metadata": {},
   "outputs": [],
   "source": [
    "data['day'] = pd.to_datetime(data['day'])"
   ]
  },
  {
   "cell_type": "code",
   "execution_count": 12,
   "metadata": {},
   "outputs": [],
   "source": [
    "data['month'] = data['day'].dt.month\n",
    "data['year'] = data['day'].dt.year"
   ]
  },
  {
   "cell_type": "code",
   "execution_count": 13,
   "metadata": {},
   "outputs": [],
   "source": [
    "data['date'] = data.year.astype(str) + '-' + data.month.astype(str)"
   ]
  },
  {
   "cell_type": "code",
   "execution_count": 14,
   "metadata": {},
   "outputs": [
    {
     "data": {
      "text/plain": [
       "<matplotlib.axes._subplots.AxesSubplot at 0x10b764f98>"
      ]
     },
     "execution_count": 14,
     "metadata": {},
     "output_type": "execute_result"
    },
    {
     "data": {
      "image/png": "[encoded data removed]",
      "text/plain": [
       "<Figure size 432x288 with 1 Axes>"
      ]
     },
     "metadata": {
      "needs_background": "light"
     },
     "output_type": "display_data"
    }
   ],
   "source": [
    "data.groupby(['date'], as_index=False)['line'].count().plot(x='date', y='line', kind='line')"
   ]
  },
  {
   "cell_type": "code",
   "execution_count": null,
   "metadata": {},
   "outputs": [],
   "source": []
  }
 ],
 "metadata": {
  "kernelspec": {
   "display_name": "Python 3",
   "language": "python",
   "name": "python3"
  },
  "language_info": {
   "codemirror_mode": {
    "name": "ipython",
    "version": 3
   },
   "file_extension": ".py",
   "mimetype": "text/x-python",
   "name": "python",
   "nbconvert_exporter": "python",
   "pygments_lexer": "ipython3",
   "version": "3.7.1"
  }
 },
 "nbformat": 4,
 "nbformat_minor": 2
}
