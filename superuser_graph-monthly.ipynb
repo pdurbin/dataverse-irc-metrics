{
 "cells": [
  {
   "cell_type": "code",
   "execution_count": 1,
   "metadata": {},
   "outputs": [
    {
     "name": "stderr",
     "output_type": "stream",
     "text": [
      "Warning message:\n",
      "\"package 'data.table' was built under R version 3.3.3\"Warning message:\n",
      "\"package 'dplyr' was built under R version 3.3.2\"------------------------------------------------------------------------------\n",
      "data.table + dplyr code now lives in dtplyr.\n",
      "Please library(dtplyr)!\n",
      "------------------------------------------------------------------------------\n",
      "\n",
      "Attaching package: 'dplyr'\n",
      "\n",
      "The following objects are masked from 'package:data.table':\n",
      "\n",
      "    between, first, last\n",
      "\n",
      "The following objects are masked from 'package:stats':\n",
      "\n",
      "    filter, lag\n",
      "\n",
      "The following objects are masked from 'package:base':\n",
      "\n",
      "    intersect, setdiff, setequal, union\n",
      "\n"
     ]
    }
   ],
   "source": [
    "library(data.table)\n",
    "library(dplyr)\n",
    "library(ggplot2)"
   ]
  },
  {
   "cell_type": "code",
   "execution_count": 2,
   "metadata": {},
   "outputs": [],
   "source": [
    "#Download the data\n",
    "download.file(url='http://dvn-vm1.hmdc.harvard.edu/data/mysql/irclog/irclog.tsv', destfile='data/irclog.tsv')"
   ]
  },
  {
   "cell_type": "code",
   "execution_count": 3,
   "metadata": {},
   "outputs": [],
   "source": [
    "df <- fread(\"data/irclog.tsv\")"
   ]
  },
  {
   "cell_type": "code",
   "execution_count": 4,
   "metadata": {
    "scrolled": false
   },
   "outputs": [
    {
     "data": {
      "text/html": [
       "<table>\n",
       "<caption>A data.table: 3 × 8</caption>\n",
       "<thead>\n",
       "\t<tr><th scope=col>id</th><th scope=col>channel</th><th scope=col>day</th><th scope=col>nick</th><th scope=col>timestamp</th><th scope=col>line</th><th scope=col>spam</th><th scope=col>in_summary</th></tr>\n",
       "\t<tr><th scope=col>&lt;int&gt;</th><th scope=col>&lt;chr&gt;</th><th scope=col>&lt;chr&gt;</th><th scope=col>&lt;chr&gt;</th><th scope=col>&lt;int&gt;</th><th scope=col>&lt;chr&gt;</th><th scope=col>&lt;int&gt;</th><th scope=col>&lt;int&gt;</th></tr>\n",
       "</thead>\n",
       "<tbody>\n",
       "\t<tr><td>1</td><td>#dvn</td><td>2012-12-08</td><td>       </td><td>1355005146</td><td>iqlogbot joined #dvn                                                                                                                                                  </td><td>0</td><td>0</td></tr>\n",
       "\t<tr><td>2</td><td>#dvn</td><td>2012-12-08</td><td>       </td><td>1355005248</td><td>Topic for #dvn is now http://thedata.org - The Dataverse Network Project | logs at http://irclog.iq.harvard.edu/dvn/today                                             </td><td>0</td><td>0</td></tr>\n",
       "\t<tr><td>3</td><td>#dvn</td><td>2012-12-08</td><td>pdurbin</td><td>1355005351</td><td>hello! welcome to #dvn, an IRC channel on Freenode about The Dataverse Network Project, a web application for sharing, citing, analyzing, and preserving research data</td><td>0</td><td>0</td></tr>\n",
       "</tbody>\n",
       "</table>\n"
      ],
      "text/latex": [
       "A data.table: 3 × 8\n",
       "\\begin{tabular}{r|llllllll}\n",
       " id & channel & day & nick & timestamp & line & spam & in\\_summary\\\\\n",
       " <int> & <chr> & <chr> & <chr> & <int> & <chr> & <int> & <int>\\\\\n",
       "\\hline\n",
       "\t 1 & \\#dvn & 2012-12-08 &         & 1355005146 & iqlogbot joined \\#dvn                                                                                                                                                   & 0 & 0\\\\\n",
       "\t 2 & \\#dvn & 2012-12-08 &         & 1355005248 & Topic for \\#dvn is now http://thedata.org - The Dataverse Network Project \\textbar{} logs at http://irclog.iq.harvard.edu/dvn/today                                              & 0 & 0\\\\\n",
       "\t 3 & \\#dvn & 2012-12-08 & pdurbin & 1355005351 & hello! welcome to \\#dvn, an IRC channel on Freenode about The Dataverse Network Project, a web application for sharing, citing, analyzing, and preserving research data & 0 & 0\\\\\n",
       "\\end{tabular}\n"
      ],
      "text/markdown": [
       "\n",
       "A data.table: 3 × 8\n",
       "\n",
       "| id &lt;int&gt; | channel &lt;chr&gt; | day &lt;chr&gt; | nick &lt;chr&gt; | timestamp &lt;int&gt; | line &lt;chr&gt; | spam &lt;int&gt; | in_summary &lt;int&gt; |\n",
       "|---|---|---|---|---|---|---|---|\n",
       "| 1 | #dvn | 2012-12-08 | <!----> | 1355005146 | iqlogbot joined #dvn                                                                                                                                                   | 0 | 0 |\n",
       "| 2 | #dvn | 2012-12-08 | <!----> | 1355005248 | Topic for #dvn is now http://thedata.org - The Dataverse Network Project | logs at http://irclog.iq.harvard.edu/dvn/today                                              | 0 | 0 |\n",
       "| 3 | #dvn | 2012-12-08 | pdurbin | 1355005351 | hello! welcome to #dvn, an IRC channel on Freenode about The Dataverse Network Project, a web application for sharing, citing, analyzing, and preserving research data | 0 | 0 |\n",
       "\n"
      ],
      "text/plain": [
       "  id channel day        nick    timestamp \n",
       "1 1  #dvn    2012-12-08         1355005146\n",
       "2 2  #dvn    2012-12-08         1355005248\n",
       "3 3  #dvn    2012-12-08 pdurbin 1355005351\n",
       "  line                                                                                                                                                                  \n",
       "1 iqlogbot joined #dvn                                                                                                                                                  \n",
       "2 Topic for #dvn is now http://thedata.org - The Dataverse Network Project | logs at http://irclog.iq.harvard.edu/dvn/today                                             \n",
       "3 hello! welcome to #dvn, an IRC channel on Freenode about The Dataverse Network Project, a web application for sharing, citing, analyzing, and preserving research data\n",
       "  spam in_summary\n",
       "1 0    0         \n",
       "2 0    0         \n",
       "3 0    0         "
      ]
     },
     "metadata": {},
     "output_type": "display_data"
    }
   ],
   "source": [
    "head(df,3)"
   ]
  },
  {
   "cell_type": "code",
   "execution_count": 6,
   "metadata": {},
   "outputs": [],
   "source": [
    "#Convert day column to date format\n",
    "df$day <- as.Date(df$day)"
   ]
  },
  {
   "cell_type": "code",
   "execution_count": 106,
   "metadata": {},
   "outputs": [],
   "source": [
    "#Select a month and a year (write out the whole month name!)\n",
    "#Try changing the month, and running all the code after it to view the output graph.\n",
    "month <- 'April'\n",
    "year <- 2019"
   ]
  },
  {
   "cell_type": "code",
   "execution_count": 107,
   "metadata": {},
   "outputs": [],
   "source": [
    "#Filter out entries in selected month and year\n",
    "df1 <- df %>% filter(months(df$day) == month & year(df$day) == year)"
   ]
  },
  {
   "cell_type": "code",
   "execution_count": 108,
   "metadata": {},
   "outputs": [],
   "source": [
    "#Make a new table which lists each nickname and the number of messages issued by that nickname\n",
    "chat.freq <- as.data.frame(table(df1$nick))"
   ]
  },
  {
   "cell_type": "code",
   "execution_count": 109,
   "metadata": {},
   "outputs": [],
   "source": [
    "#Sort nicknames based on frequency\n",
    "chat.freq.sorted <- chat.freq[order(-chat.freq$Freq),]"
   ]
  },
  {
   "cell_type": "code",
   "execution_count": 110,
   "metadata": {
    "scrolled": true
   },
   "outputs": [
    {
     "data": {
      "text/html": [
       "<table>\n",
       "<caption>A data.frame: 6 × 2</caption>\n",
       "<thead>\n",
       "\t<tr><th></th><th scope=col>Var1</th><th scope=col>Freq</th></tr>\n",
       "\t<tr><th></th><th scope=col>&lt;fct&gt;</th><th scope=col>&lt;int&gt;</th></tr>\n",
       "</thead>\n",
       "<tbody>\n",
       "\t<tr><th scope=row>20</th><td>pdurbin     </td><td>979</td></tr>\n",
       "\t<tr><th scope=row>22</th><td>poikilotherm</td><td>507</td></tr>\n",
       "\t<tr><th scope=row>1</th><td>            </td><td>376</td></tr>\n",
       "\t<tr><th scope=row>9</th><td>donsizemore </td><td>345</td></tr>\n",
       "\t<tr><th scope=row>17</th><td>larsks      </td><td> 45</td></tr>\n",
       "\t<tr><th scope=row>18</th><td>MrK         </td><td> 41</td></tr>\n",
       "</tbody>\n",
       "</table>\n"
      ],
      "text/latex": [
       "A data.frame: 6 × 2\n",
       "\\begin{tabular}{r|ll}\n",
       "  & Var1 & Freq\\\\\n",
       "  & <fct> & <int>\\\\\n",
       "\\hline\n",
       "\t20 & pdurbin      & 979\\\\\n",
       "\t22 & poikilotherm & 507\\\\\n",
       "\t1 &              & 376\\\\\n",
       "\t9 & donsizemore  & 345\\\\\n",
       "\t17 & larsks       &  45\\\\\n",
       "\t18 & MrK          &  41\\\\\n",
       "\\end{tabular}\n"
      ],
      "text/markdown": [
       "\n",
       "A data.frame: 6 × 2\n",
       "\n",
       "| <!--/--> | Var1 &lt;fct&gt; | Freq &lt;int&gt; |\n",
       "|---|---|---|\n",
       "| 20 | pdurbin      | 979 |\n",
       "| 22 | poikilotherm | 507 |\n",
       "| 1 | <!----> | 376 |\n",
       "| 9 | donsizemore  | 345 |\n",
       "| 17 | larsks       |  45 |\n",
       "| 18 | MrK          |  41 |\n",
       "\n"
      ],
      "text/plain": [
       "   Var1         Freq\n",
       "20 pdurbin      979 \n",
       "22 poikilotherm 507 \n",
       "1               376 \n",
       "9  donsizemore  345 \n",
       "17 larsks        45 \n",
       "18 MrK           41 "
      ]
     },
     "metadata": {},
     "output_type": "display_data"
    }
   ],
   "source": [
    "#Notice the numerous entries associated with no nickname (Row 1).\n",
    "head(chat.freq.sorted)"
   ]
  },
  {
   "cell_type": "code",
   "execution_count": 111,
   "metadata": {},
   "outputs": [],
   "source": [
    "# Remove any entries with blank nickname\n",
    "chat.freq.sorted <- chat.freq.sorted[chat.freq.sorted$Var1!=\"\",]"
   ]
  },
  {
   "cell_type": "code",
   "execution_count": 112,
   "metadata": {
    "scrolled": true
   },
   "outputs": [],
   "source": [
    "#Filter out the top 25 (or less if there are less than 25 nicknames)\n",
    "superusers <- chat.freq.sorted[1:min(length(chat.freq.sorted$Var1),25),]"
   ]
  },
  {
   "cell_type": "code",
   "execution_count": 113,
   "metadata": {},
   "outputs": [],
   "source": [
    "#Order the nickname levels based on frequency; this is the order the plot will show\n",
    "superusers$Var1 <- factor(superusers$Var1, levels = superusers$Var1[order(superusers$Freq)])"
   ]
  },
  {
   "cell_type": "code",
   "execution_count": 120,
   "metadata": {
    "scrolled": true
   },
   "outputs": [
    {
     "data": {
      "image/png": "[encoded data removed]",
      "text/plain": [
       "plot without title"
      ]
     },
     "metadata": {},
     "output_type": "display_data"
    }
   ],
   "source": [
    "#Plot\n",
    "ggplot(superusers, aes(x=superusers$Var1, y=superusers$Freq, label=superusers$Freq)) +\n",
    "    geom_col() +\n",
    "    coord_flip() +\n",
    "    geom_text(size=3, hjust=\"bottom\") +\n",
    "    labs(title=\"Top Contributors in the Dataverse Chatroom\", subtitle=paste(\"In\", month, year), x=\"User\", y=\"Total Messages\")"
   ]
  },
  {
   "cell_type": "code",
   "execution_count": 95,
   "metadata": {},
   "outputs": [
    {
     "data": {
      "text/html": [
       "<table>\n",
       "<caption>A data.frame: 25 × 2</caption>\n",
       "<thead>\n",
       "\t<tr><th></th><th scope=col>Var1</th><th scope=col>Freq</th></tr>\n",
       "\t<tr><th></th><th scope=col>&lt;fct&gt;</th><th scope=col>&lt;int&gt;</th></tr>\n",
       "</thead>\n",
       "<tbody>\n",
       "\t<tr><th scope=row>17</th><td>pdurbin         </td><td>1209</td></tr>\n",
       "\t<tr><th scope=row>20</th><td>poikilotherm    </td><td> 626</td></tr>\n",
       "\t<tr><th scope=row>10</th><td>donsizemore     </td><td> 361</td></tr>\n",
       "\t<tr><th scope=row>28</th><td>thanh-thanh18   </td><td> 129</td></tr>\n",
       "\t<tr><th scope=row>26</th><td>stefankasberger </td><td>  47</td></tr>\n",
       "\t<tr><th scope=row>7</th><td>bjonnh          </td><td>  43</td></tr>\n",
       "\t<tr><th scope=row>16</th><td>pameyer         </td><td>  40</td></tr>\n",
       "\t<tr><th scope=row>8</th><td>cryptoclidus    </td><td>  39</td></tr>\n",
       "\t<tr><th scope=row>23</th><td>rigelk          </td><td>  32</td></tr>\n",
       "\t<tr><th scope=row>22</th><td>Richard_Valdivia</td><td>  28</td></tr>\n",
       "\t<tr><th scope=row>27</th><td>thanh-thanh     </td><td>  23</td></tr>\n",
       "\t<tr><th scope=row>18</th><td>pdurbin_m       </td><td>  19</td></tr>\n",
       "\t<tr><th scope=row>15</th><td>MrK             </td><td>  16</td></tr>\n",
       "\t<tr><th scope=row>3</th><td>* pdurbin       </td><td>  11</td></tr>\n",
       "\t<tr><th scope=row>9</th><td>dataverse-user  </td><td>   9</td></tr>\n",
       "\t<tr><th scope=row>11</th><td>hasankhatib     </td><td>   6</td></tr>\n",
       "\t<tr><th scope=row>5</th><td>amahdy          </td><td>   5</td></tr>\n",
       "\t<tr><th scope=row>13</th><td>julian_gautier  </td><td>   3</td></tr>\n",
       "\t<tr><th scope=row>21</th><td>poikilotherm-2  </td><td>   2</td></tr>\n",
       "\t<tr><th scope=row>2</th><td>* pameyer       </td><td>   1</td></tr>\n",
       "\t<tr><th scope=row>4</th><td>* poikilotherm  </td><td>   1</td></tr>\n",
       "\t<tr><th scope=row>6</th><td>bglewis         </td><td>   1</td></tr>\n",
       "\t<tr><th scope=row>12</th><td>juancorr        </td><td>   1</td></tr>\n",
       "\t<tr><th scope=row>14</th><td>man             </td><td>   1</td></tr>\n",
       "\t<tr><th scope=row>19</th><td>Phil            </td><td>   1</td></tr>\n",
       "</tbody>\n",
       "</table>\n"
      ],
      "text/latex": [
       "A data.frame: 25 × 2\n",
       "\\begin{tabular}{r|ll}\n",
       "  & Var1 & Freq\\\\\n",
       "  & <fct> & <int>\\\\\n",
       "\\hline\n",
       "\t17 & pdurbin          & 1209\\\\\n",
       "\t20 & poikilotherm     &  626\\\\\n",
       "\t10 & donsizemore      &  361\\\\\n",
       "\t28 & thanh-thanh18    &  129\\\\\n",
       "\t26 & stefankasberger  &   47\\\\\n",
       "\t7 & bjonnh           &   43\\\\\n",
       "\t16 & pameyer          &   40\\\\\n",
       "\t8 & cryptoclidus     &   39\\\\\n",
       "\t23 & rigelk           &   32\\\\\n",
       "\t22 & Richard\\_Valdivia &   28\\\\\n",
       "\t27 & thanh-thanh      &   23\\\\\n",
       "\t18 & pdurbin\\_m        &   19\\\\\n",
       "\t15 & MrK              &   16\\\\\n",
       "\t3 & * pdurbin        &   11\\\\\n",
       "\t9 & dataverse-user   &    9\\\\\n",
       "\t11 & hasankhatib      &    6\\\\\n",
       "\t5 & amahdy           &    5\\\\\n",
       "\t13 & julian\\_gautier   &    3\\\\\n",
       "\t21 & poikilotherm-2   &    2\\\\\n",
       "\t2 & * pameyer        &    1\\\\\n",
       "\t4 & * poikilotherm   &    1\\\\\n",
       "\t6 & bglewis          &    1\\\\\n",
       "\t12 & juancorr         &    1\\\\\n",
       "\t14 & man              &    1\\\\\n",
       "\t19 & Phil             &    1\\\\\n",
       "\\end{tabular}\n"
      ],
      "text/markdown": [
       "\n",
       "A data.frame: 25 × 2\n",
       "\n",
       "| <!--/--> | Var1 &lt;fct&gt; | Freq &lt;int&gt; |\n",
       "|---|---|---|\n",
       "| 17 | pdurbin          | 1209 |\n",
       "| 20 | poikilotherm     |  626 |\n",
       "| 10 | donsizemore      |  361 |\n",
       "| 28 | thanh-thanh18    |  129 |\n",
       "| 26 | stefankasberger  |   47 |\n",
       "| 7 | bjonnh           |   43 |\n",
       "| 16 | pameyer          |   40 |\n",
       "| 8 | cryptoclidus     |   39 |\n",
       "| 23 | rigelk           |   32 |\n",
       "| 22 | Richard_Valdivia |   28 |\n",
       "| 27 | thanh-thanh      |   23 |\n",
       "| 18 | pdurbin_m        |   19 |\n",
       "| 15 | MrK              |   16 |\n",
       "| 3 | * pdurbin        |   11 |\n",
       "| 9 | dataverse-user   |    9 |\n",
       "| 11 | hasankhatib      |    6 |\n",
       "| 5 | amahdy           |    5 |\n",
       "| 13 | julian_gautier   |    3 |\n",
       "| 21 | poikilotherm-2   |    2 |\n",
       "| 2 | * pameyer        |    1 |\n",
       "| 4 | * poikilotherm   |    1 |\n",
       "| 6 | bglewis          |    1 |\n",
       "| 12 | juancorr         |    1 |\n",
       "| 14 | man              |    1 |\n",
       "| 19 | Phil             |    1 |\n",
       "\n"
      ],
      "text/plain": [
       "   Var1             Freq\n",
       "17 pdurbin          1209\n",
       "20 poikilotherm      626\n",
       "10 donsizemore       361\n",
       "28 thanh-thanh18     129\n",
       "26 stefankasberger    47\n",
       "7  bjonnh             43\n",
       "16 pameyer            40\n",
       "8  cryptoclidus       39\n",
       "23 rigelk             32\n",
       "22 Richard_Valdivia   28\n",
       "27 thanh-thanh        23\n",
       "18 pdurbin_m          19\n",
       "15 MrK                16\n",
       "3  * pdurbin          11\n",
       "9  dataverse-user      9\n",
       "11 hasankhatib         6\n",
       "5  amahdy              5\n",
       "13 julian_gautier      3\n",
       "21 poikilotherm-2      2\n",
       "2  * pameyer           1\n",
       "4  * poikilotherm      1\n",
       "6  bglewis             1\n",
       "12 juancorr            1\n",
       "14 man                 1\n",
       "19 Phil                1"
      ]
     },
     "metadata": {},
     "output_type": "display_data"
    }
   ],
   "source": [
    "superusers"
   ]
  }
 ],
 "metadata": {
  "kernelspec": {
   "display_name": "R",
   "language": "R",
   "name": "ir"
  },
  "language_info": {
   "codemirror_mode": "r",
   "file_extension": ".r",
   "mimetype": "text/x-r-source",
   "name": "R",
   "pygments_lexer": "r",
   "version": "3.3.1"
  }
 },
 "nbformat": 4,
 "nbformat_minor": 2
}
