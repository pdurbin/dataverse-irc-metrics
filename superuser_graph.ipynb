{
 "cells": [
  {
   "cell_type": "code",
   "execution_count": 2,
   "metadata": {},
   "outputs": [
    {
     "name": "stderr",
     "output_type": "stream",
     "text": [
      "Warning message:\n",
      "\"package 'data.table' was built under R version 3.3.3\"Warning message:\n",
      "\"package 'dplyr' was built under R version 3.3.2\"------------------------------------------------------------------------------\n",
      "data.table + dplyr code now lives in dtplyr.\n",
      "Please library(dtplyr)!\n",
      "------------------------------------------------------------------------------\n",
      "\n",
      "Attaching package: 'dplyr'\n",
      "\n",
      "The following objects are masked from 'package:data.table':\n",
      "\n",
      "    between, first, last\n",
      "\n",
      "The following objects are masked from 'package:stats':\n",
      "\n",
      "    filter, lag\n",
      "\n",
      "The following objects are masked from 'package:base':\n",
      "\n",
      "    intersect, setdiff, setequal, union\n",
      "\n"
     ]
    }
   ],
   "source": [
    "library(data.table)\n",
    "library(dplyr)\n",
    "library(ggplot2)"
   ]
  },
  {
   "cell_type": "code",
   "execution_count": 3,
   "metadata": {},
   "outputs": [],
   "source": [
    "#Download the data\n",
    "download.file(url='http://dvn-vm1.hmdc.harvard.edu/data/mysql/irclog/irclog.tsv', destfile='data/irclog.tsv')"
   ]
  },
  {
   "cell_type": "code",
   "execution_count": 4,
   "metadata": {},
   "outputs": [],
   "source": [
    "df <- fread(\"data/irclog.tsv\")"
   ]
  },
  {
   "cell_type": "code",
   "execution_count": 5,
   "metadata": {
    "scrolled": true
   },
   "outputs": [
    {
     "data": {
      "text/html": [
       "<table>\n",
       "<caption>A data.table: 3 × 8</caption>\n",
       "<thead>\n",
       "\t<tr><th scope=col>id</th><th scope=col>channel</th><th scope=col>day</th><th scope=col>nick</th><th scope=col>timestamp</th><th scope=col>line</th><th scope=col>spam</th><th scope=col>in_summary</th></tr>\n",
       "\t<tr><th scope=col>&lt;int&gt;</th><th scope=col>&lt;chr&gt;</th><th scope=col>&lt;chr&gt;</th><th scope=col>&lt;chr&gt;</th><th scope=col>&lt;int&gt;</th><th scope=col>&lt;chr&gt;</th><th scope=col>&lt;int&gt;</th><th scope=col>&lt;int&gt;</th></tr>\n",
       "</thead>\n",
       "<tbody>\n",
       "\t<tr><td>1</td><td>#dvn</td><td>2012-12-08</td><td>       </td><td>1355005146</td><td>iqlogbot joined #dvn                                                                                                                                                  </td><td>0</td><td>0</td></tr>\n",
       "\t<tr><td>2</td><td>#dvn</td><td>2012-12-08</td><td>       </td><td>1355005248</td><td>Topic for #dvn is now http://thedata.org - The Dataverse Network Project | logs at http://irclog.iq.harvard.edu/dvn/today                                             </td><td>0</td><td>0</td></tr>\n",
       "\t<tr><td>3</td><td>#dvn</td><td>2012-12-08</td><td>pdurbin</td><td>1355005351</td><td>hello! welcome to #dvn, an IRC channel on Freenode about The Dataverse Network Project, a web application for sharing, citing, analyzing, and preserving research data</td><td>0</td><td>0</td></tr>\n",
       "</tbody>\n",
       "</table>\n"
      ],
      "text/latex": [
       "A data.table: 3 × 8\n",
       "\\begin{tabular}{r|llllllll}\n",
       " id & channel & day & nick & timestamp & line & spam & in\\_summary\\\\\n",
       " <int> & <chr> & <chr> & <chr> & <int> & <chr> & <int> & <int>\\\\\n",
       "\\hline\n",
       "\t 1 & \\#dvn & 2012-12-08 &         & 1355005146 & iqlogbot joined \\#dvn                                                                                                                                                   & 0 & 0\\\\\n",
       "\t 2 & \\#dvn & 2012-12-08 &         & 1355005248 & Topic for \\#dvn is now http://thedata.org - The Dataverse Network Project \\textbar{} logs at http://irclog.iq.harvard.edu/dvn/today                                              & 0 & 0\\\\\n",
       "\t 3 & \\#dvn & 2012-12-08 & pdurbin & 1355005351 & hello! welcome to \\#dvn, an IRC channel on Freenode about The Dataverse Network Project, a web application for sharing, citing, analyzing, and preserving research data & 0 & 0\\\\\n",
       "\\end{tabular}\n"
      ],
      "text/markdown": [
       "\n",
       "A data.table: 3 × 8\n",
       "\n",
       "| id &lt;int&gt; | channel &lt;chr&gt; | day &lt;chr&gt; | nick &lt;chr&gt; | timestamp &lt;int&gt; | line &lt;chr&gt; | spam &lt;int&gt; | in_summary &lt;int&gt; |\n",
       "|---|---|---|---|---|---|---|---|\n",
       "| 1 | #dvn | 2012-12-08 | <!----> | 1355005146 | iqlogbot joined #dvn                                                                                                                                                   | 0 | 0 |\n",
       "| 2 | #dvn | 2012-12-08 | <!----> | 1355005248 | Topic for #dvn is now http://thedata.org - The Dataverse Network Project | logs at http://irclog.iq.harvard.edu/dvn/today                                              | 0 | 0 |\n",
       "| 3 | #dvn | 2012-12-08 | pdurbin | 1355005351 | hello! welcome to #dvn, an IRC channel on Freenode about The Dataverse Network Project, a web application for sharing, citing, analyzing, and preserving research data | 0 | 0 |\n",
       "\n"
      ],
      "text/plain": [
       "  id channel day        nick    timestamp \n",
       "1 1  #dvn    2012-12-08         1355005146\n",
       "2 2  #dvn    2012-12-08         1355005248\n",
       "3 3  #dvn    2012-12-08 pdurbin 1355005351\n",
       "  line                                                                                                                                                                  \n",
       "1 iqlogbot joined #dvn                                                                                                                                                  \n",
       "2 Topic for #dvn is now http://thedata.org - The Dataverse Network Project | logs at http://irclog.iq.harvard.edu/dvn/today                                             \n",
       "3 hello! welcome to #dvn, an IRC channel on Freenode about The Dataverse Network Project, a web application for sharing, citing, analyzing, and preserving research data\n",
       "  spam in_summary\n",
       "1 0    0         \n",
       "2 0    0         \n",
       "3 0    0         "
      ]
     },
     "metadata": {},
     "output_type": "display_data"
    }
   ],
   "source": [
    "head(df,3)"
   ]
  },
  {
   "cell_type": "code",
   "execution_count": 6,
   "metadata": {},
   "outputs": [],
   "source": [
    "#Make a new table which lists each nickname and the number of messages issued by that nickname\n",
    "chat.freq <- as.data.frame(table(df$nick))"
   ]
  },
  {
   "cell_type": "code",
   "execution_count": 7,
   "metadata": {},
   "outputs": [],
   "source": [
    "#Sort nicknames based on frequency\n",
    "chat.freq.sorted <- chat.freq[order(-chat.freq$Freq),]"
   ]
  },
  {
   "cell_type": "code",
   "execution_count": 8,
   "metadata": {
    "scrolled": true
   },
   "outputs": [
    {
     "data": {
      "text/html": [
       "<table>\n",
       "<caption>A data.frame: 6 × 2</caption>\n",
       "<thead>\n",
       "\t<tr><th></th><th scope=col>Var1</th><th scope=col>Freq</th></tr>\n",
       "\t<tr><th></th><th scope=col>&lt;fct&gt;</th><th scope=col>&lt;int&gt;</th></tr>\n",
       "</thead>\n",
       "<tbody>\n",
       "\t<tr><th scope=row>1</th><td>            </td><td>32987</td></tr>\n",
       "\t<tr><th scope=row>348</th><td>pdurbin     </td><td>26847</td></tr>\n",
       "\t<tr><th scope=row>338</th><td>pameyer     </td><td> 4859</td></tr>\n",
       "\t<tr><th scope=row>365</th><td>poikilotherm</td><td> 4454</td></tr>\n",
       "\t<tr><th scope=row>146</th><td>donsizemore </td><td> 3652</td></tr>\n",
       "\t<tr><th scope=row>68</th><td>bencomp     </td><td> 2753</td></tr>\n",
       "</tbody>\n",
       "</table>\n"
      ],
      "text/latex": [
       "A data.frame: 6 × 2\n",
       "\\begin{tabular}{r|ll}\n",
       "  & Var1 & Freq\\\\\n",
       "  & <fct> & <int>\\\\\n",
       "\\hline\n",
       "\t1 &              & 32987\\\\\n",
       "\t348 & pdurbin      & 26847\\\\\n",
       "\t338 & pameyer      &  4859\\\\\n",
       "\t365 & poikilotherm &  4454\\\\\n",
       "\t146 & donsizemore  &  3652\\\\\n",
       "\t68 & bencomp      &  2753\\\\\n",
       "\\end{tabular}\n"
      ],
      "text/markdown": [
       "\n",
       "A data.frame: 6 × 2\n",
       "\n",
       "| <!--/--> | Var1 &lt;fct&gt; | Freq &lt;int&gt; |\n",
       "|---|---|---|\n",
       "| 1 | <!----> | 32987 |\n",
       "| 348 | pdurbin      | 26847 |\n",
       "| 338 | pameyer      |  4859 |\n",
       "| 365 | poikilotherm |  4454 |\n",
       "| 146 | donsizemore  |  3652 |\n",
       "| 68 | bencomp      |  2753 |\n",
       "\n"
      ],
      "text/plain": [
       "    Var1         Freq \n",
       "1                32987\n",
       "348 pdurbin      26847\n",
       "338 pameyer       4859\n",
       "365 poikilotherm  4454\n",
       "146 donsizemore   3652\n",
       "68  bencomp       2753"
      ]
     },
     "metadata": {},
     "output_type": "display_data"
    }
   ],
   "source": [
    "#Notice the numerous entries associated with no nickname (Row 1).\n",
    "head(chat.freq.sorted)"
   ]
  },
  {
   "cell_type": "code",
   "execution_count": 11,
   "metadata": {},
   "outputs": [],
   "source": [
    "# Remove any entries with blank nickname\n",
    "chat.freq.sorted <- chat.freq.sorted[chat.freq.sorted$Var1!=\"\",]"
   ]
  },
  {
   "cell_type": "code",
   "execution_count": 18,
   "metadata": {
    "scrolled": true
   },
   "outputs": [],
   "source": [
    "#Filter out the top 25\n",
    "superusers <- chat.freq.sorted[1:25,]"
   ]
  },
  {
   "cell_type": "code",
   "execution_count": 19,
   "metadata": {},
   "outputs": [],
   "source": [
    "#Order the nickname levels based on frequency; this is the order the plot will show\n",
    "superusers$Var1 <- factor(superusers$Var1, levels = superusers$Var1[order(superusers$Freq)])"
   ]
  },
  {
   "cell_type": "code",
   "execution_count": 20,
   "metadata": {},
   "outputs": [],
   "source": [
    "#Fetch and format min and max dates of the data\n",
    "date.min <- min(df$day) %>% as.Date() %>% format(format=\"%b %d, %Y\")"
   ]
  },
  {
   "cell_type": "code",
   "execution_count": 21,
   "metadata": {},
   "outputs": [],
   "source": [
    "date.max <- max(df$day) %>% as.Date() %>% format(format=\"%b %d, %Y\")"
   ]
  },
  {
   "cell_type": "code",
   "execution_count": 25,
   "metadata": {
    "scrolled": true
   },
   "outputs": [
    {
     "data": {
      "image/png": "[encoded data removed]",
      "text/plain": [
       "plot without title"
      ]
     },
     "metadata": {},
     "output_type": "display_data"
    }
   ],
   "source": [
    "#Plot\n",
    "ggplot(superusers, aes(x=Var1, y=Freq, label=Freq)) +\n",
    "    geom_col() +\n",
    "    coord_flip() +\n",
    "    geom_text(size=3, hjust=\"bottom\") +\n",
    "    labs(title=\"Top Contributors in the Dataverse Chatroom\", subtitle=paste(\"From \", date.min, \" to \", date.max), x=\"User\", y=\"Total Messages\")"
   ]
  },
  {
   "cell_type": "code",
   "execution_count": 23,
   "metadata": {},
   "outputs": [],
   "source": [
    "ggsave(\"ircsuperusers.png\", width = 6, height = 7)"
   ]
  },
  {
   "cell_type": "code",
   "execution_count": 24,
   "metadata": {},
   "outputs": [
    {
     "data": {
      "text/html": [
       "<table>\n",
       "<caption>A data.frame: 25 × 2</caption>\n",
       "<thead>\n",
       "\t<tr><th></th><th scope=col>Var1</th><th scope=col>Freq</th></tr>\n",
       "\t<tr><th></th><th scope=col>&lt;fct&gt;</th><th scope=col>&lt;int&gt;</th></tr>\n",
       "</thead>\n",
       "<tbody>\n",
       "\t<tr><th scope=row>348</th><td>pdurbin       </td><td>26847</td></tr>\n",
       "\t<tr><th scope=row>338</th><td>pameyer       </td><td> 4859</td></tr>\n",
       "\t<tr><th scope=row>365</th><td>poikilotherm  </td><td> 4454</td></tr>\n",
       "\t<tr><th scope=row>146</th><td>donsizemore   </td><td> 3652</td></tr>\n",
       "\t<tr><th scope=row>68</th><td>bencomp       </td><td> 2753</td></tr>\n",
       "\t<tr><th scope=row>77</th><td>bjonnh        </td><td> 1247</td></tr>\n",
       "\t<tr><th scope=row>51</th><td>andrewSC      </td><td> 1047</td></tr>\n",
       "\t<tr><th scope=row>425</th><td>skay          </td><td>  943</td></tr>\n",
       "\t<tr><th scope=row>384</th><td>romainM       </td><td>  888</td></tr>\n",
       "\t<tr><th scope=row>460</th><td>Thalia_UM     </td><td>  836</td></tr>\n",
       "\t<tr><th scope=row>99</th><td>cdsp-rmo      </td><td>  659</td></tr>\n",
       "\t<tr><th scope=row>124</th><td>dataverse-user</td><td>  520</td></tr>\n",
       "\t<tr><th scope=row>459</th><td>Thali_UM      </td><td>  500</td></tr>\n",
       "\t<tr><th scope=row>399</th><td>sbmarks       </td><td>  449</td></tr>\n",
       "\t<tr><th scope=row>22</th><td>* pdurbin     </td><td>  396</td></tr>\n",
       "\t<tr><th scope=row>267</th><td>jwhitney      </td><td>  356</td></tr>\n",
       "\t<tr><th scope=row>293</th><td>Mahsa         </td><td>  324</td></tr>\n",
       "\t<tr><th scope=row>62</th><td>axfelix       </td><td>  311</td></tr>\n",
       "\t<tr><th scope=row>317</th><td>michbarsinai  </td><td>  309</td></tr>\n",
       "\t<tr><th scope=row>349</th><td>pdurbin_m     </td><td>  304</td></tr>\n",
       "\t<tr><th scope=row>86</th><td>bricas        </td><td>  290</td></tr>\n",
       "\t<tr><th scope=row>380</th><td>rliebz        </td><td>  256</td></tr>\n",
       "\t<tr><th scope=row>325</th><td>MrK           </td><td>  245</td></tr>\n",
       "\t<tr><th scope=row>453</th><td>telnoratti    </td><td>  235</td></tr>\n",
       "\t<tr><th scope=row>442</th><td>soU           </td><td>  234</td></tr>\n",
       "</tbody>\n",
       "</table>\n"
      ],
      "text/latex": [
       "A data.frame: 25 × 2\n",
       "\\begin{tabular}{r|ll}\n",
       "  & Var1 & Freq\\\\\n",
       "  & <fct> & <int>\\\\\n",
       "\\hline\n",
       "\t348 & pdurbin        & 26847\\\\\n",
       "\t338 & pameyer        &  4859\\\\\n",
       "\t365 & poikilotherm   &  4454\\\\\n",
       "\t146 & donsizemore    &  3652\\\\\n",
       "\t68 & bencomp        &  2753\\\\\n",
       "\t77 & bjonnh         &  1247\\\\\n",
       "\t51 & andrewSC       &  1047\\\\\n",
       "\t425 & skay           &   943\\\\\n",
       "\t384 & romainM        &   888\\\\\n",
       "\t460 & Thalia\\_UM      &   836\\\\\n",
       "\t99 & cdsp-rmo       &   659\\\\\n",
       "\t124 & dataverse-user &   520\\\\\n",
       "\t459 & Thali\\_UM       &   500\\\\\n",
       "\t399 & sbmarks        &   449\\\\\n",
       "\t22 & * pdurbin      &   396\\\\\n",
       "\t267 & jwhitney       &   356\\\\\n",
       "\t293 & Mahsa          &   324\\\\\n",
       "\t62 & axfelix        &   311\\\\\n",
       "\t317 & michbarsinai   &   309\\\\\n",
       "\t349 & pdurbin\\_m      &   304\\\\\n",
       "\t86 & bricas         &   290\\\\\n",
       "\t380 & rliebz         &   256\\\\\n",
       "\t325 & MrK            &   245\\\\\n",
       "\t453 & telnoratti     &   235\\\\\n",
       "\t442 & soU            &   234\\\\\n",
       "\\end{tabular}\n"
      ],
      "text/markdown": [
       "\n",
       "A data.frame: 25 × 2\n",
       "\n",
       "| <!--/--> | Var1 &lt;fct&gt; | Freq &lt;int&gt; |\n",
       "|---|---|---|\n",
       "| 348 | pdurbin        | 26847 |\n",
       "| 338 | pameyer        |  4859 |\n",
       "| 365 | poikilotherm   |  4454 |\n",
       "| 146 | donsizemore    |  3652 |\n",
       "| 68 | bencomp        |  2753 |\n",
       "| 77 | bjonnh         |  1247 |\n",
       "| 51 | andrewSC       |  1047 |\n",
       "| 425 | skay           |   943 |\n",
       "| 384 | romainM        |   888 |\n",
       "| 460 | Thalia_UM      |   836 |\n",
       "| 99 | cdsp-rmo       |   659 |\n",
       "| 124 | dataverse-user |   520 |\n",
       "| 459 | Thali_UM       |   500 |\n",
       "| 399 | sbmarks        |   449 |\n",
       "| 22 | * pdurbin      |   396 |\n",
       "| 267 | jwhitney       |   356 |\n",
       "| 293 | Mahsa          |   324 |\n",
       "| 62 | axfelix        |   311 |\n",
       "| 317 | michbarsinai   |   309 |\n",
       "| 349 | pdurbin_m      |   304 |\n",
       "| 86 | bricas         |   290 |\n",
       "| 380 | rliebz         |   256 |\n",
       "| 325 | MrK            |   245 |\n",
       "| 453 | telnoratti     |   235 |\n",
       "| 442 | soU            |   234 |\n",
       "\n"
      ],
      "text/plain": [
       "    Var1           Freq \n",
       "348 pdurbin        26847\n",
       "338 pameyer         4859\n",
       "365 poikilotherm    4454\n",
       "146 donsizemore     3652\n",
       "68  bencomp         2753\n",
       "77  bjonnh          1247\n",
       "51  andrewSC        1047\n",
       "425 skay             943\n",
       "384 romainM          888\n",
       "460 Thalia_UM        836\n",
       "99  cdsp-rmo         659\n",
       "124 dataverse-user   520\n",
       "459 Thali_UM         500\n",
       "399 sbmarks          449\n",
       "22  * pdurbin        396\n",
       "267 jwhitney         356\n",
       "293 Mahsa            324\n",
       "62  axfelix          311\n",
       "317 michbarsinai     309\n",
       "349 pdurbin_m        304\n",
       "86  bricas           290\n",
       "380 rliebz           256\n",
       "325 MrK              245\n",
       "453 telnoratti       235\n",
       "442 soU              234"
      ]
     },
     "metadata": {},
     "output_type": "display_data"
    }
   ],
   "source": [
    "superusers"
   ]
  }
 ],
 "metadata": {
  "kernelspec": {
   "display_name": "R",
   "language": "R",
   "name": "ir"
  },
  "language_info": {
   "codemirror_mode": "r",
   "file_extension": ".r",
   "mimetype": "text/x-r-source",
   "name": "R",
   "pygments_lexer": "r",
   "version": "3.3.1"
  }
 },
 "nbformat": 4,
 "nbformat_minor": 2
}
